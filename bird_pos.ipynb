{
 "cells": [
  {
   "cell_type": "code",
   "execution_count": 19,
   "metadata": {
    "ExecuteTime": {
     "end_time": "2018-06-06T08:19:05.495688Z",
     "start_time": "2018-06-06T08:19:05.482687Z"
    }
   },
   "outputs": [],
   "source": [
    "import requests\n",
    "import os\n",
    "import re"
   ]
  },
  {
   "cell_type": "code",
   "execution_count": 20,
   "metadata": {
    "ExecuteTime": {
     "end_time": "2018-06-06T08:19:07.137782Z",
     "start_time": "2018-06-06T08:19:07.113780Z"
    }
   },
   "outputs": [
    {
     "name": "stdout",
     "output_type": "stream",
     "text": [
      "['http://niaolei.org.cn/posts/58/1', 'http://niaolei.org.cn/posts/58/2', 'http://niaolei.org.cn/posts/58/3', 'http://niaolei.org.cn/posts/58/4', 'http://niaolei.org.cn/posts/58/5', 'http://niaolei.org.cn/posts/58/6', 'http://niaolei.org.cn/posts/58/7', 'http://niaolei.org.cn/posts/58/8', 'http://niaolei.org.cn/posts/58/9', 'http://niaolei.org.cn/posts/58/10', 'http://niaolei.org.cn/posts/58/11', 'http://niaolei.org.cn/posts/58/12', 'http://niaolei.org.cn/posts/58/13', 'http://niaolei.org.cn/posts/58/14', 'http://niaolei.org.cn/posts/58/15', 'http://niaolei.org.cn/posts/58/16', 'http://niaolei.org.cn/posts/58/17', 'http://niaolei.org.cn/posts/58/18', 'http://niaolei.org.cn/posts/58/19', 'http://niaolei.org.cn/posts/58/20', 'http://niaolei.org.cn/posts/58/21', 'http://niaolei.org.cn/posts/58/22', 'http://niaolei.org.cn/posts/58/23', 'http://niaolei.org.cn/posts/58/24', 'http://niaolei.org.cn/posts/58/25', 'http://niaolei.org.cn/posts/58/26', 'http://niaolei.org.cn/posts/58/27', 'http://niaolei.org.cn/posts/58/28', 'http://niaolei.org.cn/posts/58/29', 'http://niaolei.org.cn/posts/58/30', 'http://niaolei.org.cn/posts/58/31', 'http://niaolei.org.cn/posts/58/32', 'http://niaolei.org.cn/posts/58/33', 'http://niaolei.org.cn/posts/58/34', 'http://niaolei.org.cn/posts/58/35', 'http://niaolei.org.cn/posts/58/36', 'http://niaolei.org.cn/posts/58/37', 'http://niaolei.org.cn/posts/58/38', 'http://niaolei.org.cn/posts/58/39', 'http://niaolei.org.cn/posts/58/40']\n"
     ]
    }
   ],
   "source": [
    "url = []\n",
    "links = []\n",
    "for i in range(40):\n",
    "    url.append('http://niaolei.org.cn/posts/58/')\n",
    "    urls = url[i] + str(i+1)\n",
    "    links.append(urls)\n",
    "print(links)"
   ]
  },
  {
   "cell_type": "code",
   "execution_count": 62,
   "metadata": {
    "ExecuteTime": {
     "end_time": "2018-06-06T08:47:26.702991Z",
     "start_time": "2018-06-06T08:47:24.510866Z"
    }
   },
   "outputs": [],
   "source": [
    "jpg_urls = []\n",
    "for i in range(len(links)):\n",
    "    html = requests.get(links[i])\n",
    "    jpg_url = re.findall(\"alt=.雀形目鸟类图谱大全：388张图！..src=\\\"(.*?)\\\".width\",html.text)\n",
    "    jpg_urls = jpg_urls + jpg_url"
   ]
  },
  {
   "cell_type": "code",
   "execution_count": 71,
   "metadata": {
    "ExecuteTime": {
     "end_time": "2018-06-06T09:03:36.965487Z",
     "start_time": "2018-06-06T09:03:05.621694Z"
    }
   },
   "outputs": [
    {
     "ename": "IndexError",
     "evalue": "list index out of range",
     "output_type": "error",
     "traceback": [
      "\u001b[1;31m---------------------------------------------------------------------------\u001b[0m",
      "\u001b[1;31mIndexError\u001b[0m                                Traceback (most recent call last)",
      "\u001b[1;32m<ipython-input-71-1a0b863e01b9>\u001b[0m in \u001b[0;36m<module>\u001b[1;34m()\u001b[0m\n\u001b[0;32m      1\u001b[0m \u001b[1;32mfor\u001b[0m \u001b[0mi\u001b[0m \u001b[1;32min\u001b[0m \u001b[0mrange\u001b[0m\u001b[1;33m(\u001b[0m\u001b[0mlen\u001b[0m\u001b[1;33m(\u001b[0m\u001b[0mjpg_urls\u001b[0m\u001b[1;33m)\u001b[0m\u001b[1;33m)\u001b[0m\u001b[1;33m:\u001b[0m\u001b[1;33m\u001b[0m\u001b[0m\n\u001b[0;32m      2\u001b[0m     \u001b[0mi\u001b[0m\u001b[1;33m+=\u001b[0m\u001b[1;36m1\u001b[0m\u001b[1;33m\u001b[0m\u001b[0m\n\u001b[1;32m----> 3\u001b[1;33m     \u001b[0mresponse\u001b[0m \u001b[1;33m=\u001b[0m \u001b[0mrequests\u001b[0m\u001b[1;33m.\u001b[0m\u001b[0mget\u001b[0m\u001b[1;33m(\u001b[0m\u001b[0mjpg_urls\u001b[0m\u001b[1;33m[\u001b[0m\u001b[0mi\u001b[0m\u001b[1;33m]\u001b[0m\u001b[1;33m)\u001b[0m\u001b[1;33m\u001b[0m\u001b[0m\n\u001b[0m\u001b[0;32m      4\u001b[0m     \u001b[1;32mwith\u001b[0m \u001b[0mopen\u001b[0m\u001b[1;33m(\u001b[0m\u001b[1;34m\"E:/ray-python/pos/\"\u001b[0m\u001b[1;33m+\u001b[0m\u001b[0mstr\u001b[0m\u001b[1;33m(\u001b[0m\u001b[0mi\u001b[0m\u001b[1;33m)\u001b[0m\u001b[1;33m+\u001b[0m\u001b[1;34m\".jpg\"\u001b[0m\u001b[1;33m,\u001b[0m\u001b[1;34m\"wb+\"\u001b[0m\u001b[1;33m)\u001b[0m \u001b[1;32mas\u001b[0m \u001b[0mf\u001b[0m\u001b[1;33m:\u001b[0m\u001b[1;33m\u001b[0m\u001b[0m\n\u001b[0;32m      5\u001b[0m         \u001b[0mf\u001b[0m\u001b[1;33m.\u001b[0m\u001b[0mwrite\u001b[0m\u001b[1;33m(\u001b[0m\u001b[0mresponse\u001b[0m\u001b[1;33m.\u001b[0m\u001b[0mcontent\u001b[0m\u001b[1;33m)\u001b[0m\u001b[1;33m\u001b[0m\u001b[0m\n",
      "\u001b[1;31mIndexError\u001b[0m: list index out of range"
     ]
    }
   ],
   "source": [
    "for i in range(len(jpg_urls)):\n",
    "    i+=1\n",
    "    response = requests.get(jpg_urls[i])\n",
    "    with open(\"E:/ray-python/pos/\"+str(i)+\".jpg\",\"wb+\") as f:\n",
    "        f.write(response.content)\n",
    "        "
   ]
  },
  {
   "cell_type": "code",
   "execution_count": null,
   "metadata": {},
   "outputs": [],
   "source": []
  }
 ],
 "metadata": {
  "kernelspec": {
   "display_name": "Python 3",
   "language": "python",
   "name": "python3"
  },
  "language_info": {
   "codemirror_mode": {
    "name": "ipython",
    "version": 3
   },
   "file_extension": ".py",
   "mimetype": "text/x-python",
   "name": "python",
   "nbconvert_exporter": "python",
   "pygments_lexer": "ipython3",
   "version": "3.6.5"
  },
  "toc": {
   "base_numbering": 1,
   "nav_menu": {},
   "number_sections": true,
   "sideBar": true,
   "skip_h1_title": false,
   "title_cell": "Table of Contents",
   "title_sidebar": "Contents",
   "toc_cell": false,
   "toc_position": {},
   "toc_section_display": true,
   "toc_window_display": false
  }
 },
 "nbformat": 4,
 "nbformat_minor": 2
}
